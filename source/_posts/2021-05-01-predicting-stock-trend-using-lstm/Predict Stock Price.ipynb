{
 "cells": [
  {
   "cell_type": "code",
   "execution_count": 1,
   "id": "9fbed716",
   "metadata": {
    "ExecuteTime": {
     "end_time": "2021-05-01T01:29:11.784259Z",
     "start_time": "2021-05-01T01:29:10.249725Z"
    }
   },
   "outputs": [],
   "source": [
    "import torch\n",
    "import torch.nn as nn\n",
    "import torch.optim as optim\n",
    "import torch.nn.functional as F\n",
    "import numpy as np\n",
    "import pandas as pd\n",
    "import yfinance as yf\n",
    "import matplotlib.pyplot as plt\n",
    "import seaborn as sns\n",
    "from sklearn.preprocessing import MinMaxScaler"
   ]
  },
  {
   "cell_type": "code",
   "execution_count": 2,
   "id": "4841b77e",
   "metadata": {
    "ExecuteTime": {
     "end_time": "2021-05-01T01:29:12.373178Z",
     "start_time": "2021-05-01T01:29:11.785236Z"
    }
   },
   "outputs": [],
   "source": [
    "stock = yf.download(tickers=\"DIS\", progress=False)\n",
    "stock = stock.loc[\"2015\":]"
   ]
  },
  {
   "cell_type": "code",
   "execution_count": 3,
   "id": "90eb47c3",
   "metadata": {
    "ExecuteTime": {
     "end_time": "2021-05-01T01:29:12.384464Z",
     "start_time": "2021-05-01T01:29:12.374154Z"
    }
   },
   "outputs": [
    {
     "data": {
      "text/html": [
       "<div>\n",
       "<style scoped>\n",
       "    .dataframe tbody tr th:only-of-type {\n",
       "        vertical-align: middle;\n",
       "    }\n",
       "\n",
       "    .dataframe tbody tr th {\n",
       "        vertical-align: top;\n",
       "    }\n",
       "\n",
       "    .dataframe thead th {\n",
       "        text-align: right;\n",
       "    }\n",
       "</style>\n",
       "<table border=\"1\" class=\"dataframe\">\n",
       "  <thead>\n",
       "    <tr style=\"text-align: right;\">\n",
       "      <th></th>\n",
       "      <th>Open</th>\n",
       "      <th>High</th>\n",
       "      <th>Low</th>\n",
       "      <th>Close</th>\n",
       "      <th>Adj Close</th>\n",
       "      <th>Volume</th>\n",
       "    </tr>\n",
       "    <tr>\n",
       "      <th>Date</th>\n",
       "      <th></th>\n",
       "      <th></th>\n",
       "      <th></th>\n",
       "      <th></th>\n",
       "      <th></th>\n",
       "      <th></th>\n",
       "    </tr>\n",
       "  </thead>\n",
       "  <tbody>\n",
       "    <tr>\n",
       "      <th>2015-01-02</th>\n",
       "      <td>94.910004</td>\n",
       "      <td>95.279999</td>\n",
       "      <td>92.849998</td>\n",
       "      <td>93.750000</td>\n",
       "      <td>87.376266</td>\n",
       "      <td>5865400</td>\n",
       "    </tr>\n",
       "    <tr>\n",
       "      <th>2015-01-05</th>\n",
       "      <td>93.279999</td>\n",
       "      <td>93.349998</td>\n",
       "      <td>91.779999</td>\n",
       "      <td>92.379997</td>\n",
       "      <td>86.099403</td>\n",
       "      <td>7789400</td>\n",
       "    </tr>\n",
       "    <tr>\n",
       "      <th>2015-01-06</th>\n",
       "      <td>92.570000</td>\n",
       "      <td>93.190002</td>\n",
       "      <td>91.160004</td>\n",
       "      <td>91.889999</td>\n",
       "      <td>85.642708</td>\n",
       "      <td>6793100</td>\n",
       "    </tr>\n",
       "    <tr>\n",
       "      <th>2015-01-07</th>\n",
       "      <td>92.720001</td>\n",
       "      <td>93.150002</td>\n",
       "      <td>92.099998</td>\n",
       "      <td>92.830002</td>\n",
       "      <td>86.518814</td>\n",
       "      <td>6589500</td>\n",
       "    </tr>\n",
       "    <tr>\n",
       "      <th>2015-01-08</th>\n",
       "      <td>93.870003</td>\n",
       "      <td>94.300003</td>\n",
       "      <td>93.559998</td>\n",
       "      <td>93.790001</td>\n",
       "      <td>87.413536</td>\n",
       "      <td>7579400</td>\n",
       "    </tr>\n",
       "  </tbody>\n",
       "</table>\n",
       "</div>"
      ],
      "text/plain": [
       "                 Open       High        Low      Close  Adj Close   Volume\n",
       "Date                                                                      \n",
       "2015-01-02  94.910004  95.279999  92.849998  93.750000  87.376266  5865400\n",
       "2015-01-05  93.279999  93.349998  91.779999  92.379997  86.099403  7789400\n",
       "2015-01-06  92.570000  93.190002  91.160004  91.889999  85.642708  6793100\n",
       "2015-01-07  92.720001  93.150002  92.099998  92.830002  86.518814  6589500\n",
       "2015-01-08  93.870003  94.300003  93.559998  93.790001  87.413536  7579400"
      ]
     },
     "execution_count": 3,
     "metadata": {},
     "output_type": "execute_result"
    }
   ],
   "source": [
    "stock.head()"
   ]
  },
  {
   "cell_type": "code",
   "execution_count": 4,
   "id": "955508bb",
   "metadata": {
    "ExecuteTime": {
     "end_time": "2021-05-01T01:29:12.389309Z",
     "start_time": "2021-05-01T01:29:12.385432Z"
    }
   },
   "outputs": [],
   "source": [
    "stock_close = stock[\"Close\"]\n",
    "\n",
    "t_v_split = int(0.6*len(stock_close))\n",
    "v_t_split = int(0.8*len(stock_close))\n",
    "train_data, valid_data, test_data = stock_close[:t_v_split], stock_close[t_v_split:v_t_split], stock_close[v_t_split:]"
   ]
  },
  {
   "cell_type": "code",
   "execution_count": 5,
   "id": "8bec95a2",
   "metadata": {
    "ExecuteTime": {
     "end_time": "2021-05-01T01:29:12.395165Z",
     "start_time": "2021-05-01T01:29:12.390285Z"
    }
   },
   "outputs": [],
   "source": [
    "scaler = MinMaxScaler()\n",
    "train_data = scaler.fit_transform(np.expand_dims(train_data, axis=1))\n",
    "valid_data = scaler.transform(np.expand_dims(valid_data, axis=1))\n",
    "test_data = scaler.transform(np.expand_dims(test_data, axis=1))"
   ]
  },
  {
   "cell_type": "code",
   "execution_count": 6,
   "id": "d9e36981",
   "metadata": {
    "ExecuteTime": {
     "end_time": "2021-05-01T01:29:12.399905Z",
     "start_time": "2021-05-01T01:29:12.396141Z"
    }
   },
   "outputs": [
    {
     "data": {
      "text/plain": [
       "((955, 1), (319, 1), (319, 1))"
      ]
     },
     "execution_count": 6,
     "metadata": {},
     "output_type": "execute_result"
    }
   ],
   "source": [
    "train_data.shape, valid_data.shape, test_data.shape"
   ]
  },
  {
   "cell_type": "code",
   "execution_count": 7,
   "id": "3e710f34",
   "metadata": {
    "ExecuteTime": {
     "end_time": "2021-05-01T01:29:12.404786Z",
     "start_time": "2021-05-01T01:29:12.400880Z"
    }
   },
   "outputs": [],
   "source": [
    "def sliding_windows(data, seq_length):\n",
    "    xs, ys = [], []\n",
    "    \n",
    "    for i in range(len(data)-seq_length-1):\n",
    "        x = data[i:(i+seq_length)]\n",
    "        y = data[i+seq_length]\n",
    "        xs.append(x)\n",
    "        ys.append(y)\n",
    "        \n",
    "    return np.array(xs), np.array(ys)"
   ]
  },
  {
   "cell_type": "code",
   "execution_count": 8,
   "id": "f22ccf45",
   "metadata": {
    "ExecuteTime": {
     "end_time": "2021-05-01T01:29:12.412479Z",
     "start_time": "2021-05-01T01:29:12.406737Z"
    }
   },
   "outputs": [],
   "source": [
    "SEQ_LENGTH = 64\n",
    "\n",
    "X_train, y_train = sliding_windows(train_data, SEQ_LENGTH)\n",
    "X_valid, y_valid = sliding_windows(valid_data, SEQ_LENGTH)\n",
    "X_test, y_test = sliding_windows(test_data, SEQ_LENGTH)"
   ]
  },
  {
   "cell_type": "code",
   "execution_count": 9,
   "id": "3a378bc2",
   "metadata": {
    "ExecuteTime": {
     "end_time": "2021-05-01T01:29:12.417331Z",
     "start_time": "2021-05-01T01:29:12.413428Z"
    }
   },
   "outputs": [
    {
     "data": {
      "text/plain": [
       "((890, 64, 1), (890, 1))"
      ]
     },
     "execution_count": 9,
     "metadata": {},
     "output_type": "execute_result"
    }
   ],
   "source": [
    "X_train.shape, y_train.shape"
   ]
  },
  {
   "cell_type": "code",
   "execution_count": 10,
   "id": "0a70519e",
   "metadata": {
    "ExecuteTime": {
     "end_time": "2021-05-01T01:29:12.423188Z",
     "start_time": "2021-05-01T01:29:12.418308Z"
    }
   },
   "outputs": [],
   "source": [
    "X_train = torch.from_numpy(X_train).float()\n",
    "X_valid = torch.from_numpy(X_valid).float()\n",
    "X_test = torch.from_numpy(X_test).float()"
   ]
  },
  {
   "cell_type": "code",
   "execution_count": 11,
   "id": "0e865e21",
   "metadata": {
    "ExecuteTime": {
     "end_time": "2021-05-01T01:29:12.429043Z",
     "start_time": "2021-05-01T01:29:12.424165Z"
    }
   },
   "outputs": [],
   "source": [
    "y_train = torch.from_numpy(y_train).float()\n",
    "y_valid = torch.from_numpy(y_valid).float()\n",
    "y_test = torch.from_numpy(y_test).float()"
   ]
  },
  {
   "cell_type": "code",
   "execution_count": 12,
   "id": "a39aa474",
   "metadata": {
    "ExecuteTime": {
     "end_time": "2021-05-01T01:29:12.436852Z",
     "start_time": "2021-05-01T01:29:12.430019Z"
    }
   },
   "outputs": [],
   "source": [
    "class StockPredictor(nn.Module):\n",
    "    \n",
    "    def __init__(self, input_size, hidden_size, num_layers, seq_length, dropout):\n",
    "        super(StockPredictor, self).__init__()\n",
    "        self.input_size = input_size\n",
    "        self.hidden_size = hidden_size\n",
    "        self.num_layers = num_layers\n",
    "        self.seq_length = seq_length\n",
    "        self.dropout = dropout\n",
    "        \n",
    "        self.lstm = nn.LSTM(input_size=input_size, \n",
    "                            hidden_size=hidden_size, \n",
    "                            num_layers=num_layers, \n",
    "                            dropout=dropout)\n",
    "        self.linear = nn.Linear(in_features=hidden_size, out_features=1)\n",
    "        \n",
    "    def reset_hidden_state(self, device):\n",
    "        self.hidden = (\n",
    "            torch.zeros(self.num_layers, self.seq_length, self.hidden_size).to(device), \n",
    "            torch.zeros(self.num_layers, self.seq_length, self.hidden_size).to(device)\n",
    "        )\n",
    "        \n",
    "    def forward(self, input_):\n",
    "        lstm_out, self.hidden = self.lstm(input_.view(len(input_), self.seq_length, -1), self.hidden)\n",
    "        y_pred = self.linear(lstm_out.view(self.seq_length, len(input_), self.hidden_size)[-1])\n",
    "        return y_pred"
   ]
  },
  {
   "cell_type": "code",
   "execution_count": 13,
   "id": "1dfd89cb",
   "metadata": {
    "ExecuteTime": {
     "end_time": "2021-05-01T01:29:12.446612Z",
     "start_time": "2021-05-01T01:29:12.437828Z"
    }
   },
   "outputs": [],
   "source": [
    "def train_model(model, device, train_data, train_labels, valid_data=None, valid_labels=None, epochs=10):\n",
    "    loss_fn = nn.MSELoss(reduction=\"sum\").to(device)\n",
    "    optimiser = optim.Adam(model.parameters(), lr=1e-3, weight_decay=1e-4)\n",
    "    train_history = np.zeros(EPOCHS)\n",
    "    valid_history = np.zeros(EPOCHS)\n",
    "    \n",
    "    for epoch in range(epochs):\n",
    "        model.reset_hidden_state(device)\n",
    "        y_pred = model(train_data.to(device))\n",
    "        loss = loss_fn(y_pred.float(), train_labels.to(device))\n",
    "        if valid_data is not None:\n",
    "            with torch.no_grad():\n",
    "                y_valid_pred = model(valid_data.to(device))\n",
    "                valid_loss = loss_fn(y_valid_pred.float(), valid_labels.to(device))\n",
    "            valid_history[epoch] = valid_loss.item()\n",
    "            print(f\"Epoch {epoch} Train Loss: {loss.item()} Valid Loss: {valid_loss.item()}\")\n",
    "        else:\n",
    "            print(f\"Epoch {epoch} Train Loss: {loss.item()}\")\n",
    "        train_history[epoch] = loss.item()\n",
    "        optimiser.zero_grad()\n",
    "        loss.backward()\n",
    "        optimiser.step()\n",
    "    return model.eval(), train_history, valid_history"
   ]
  },
  {
   "cell_type": "code",
   "execution_count": 14,
   "id": "a5be620d",
   "metadata": {
    "ExecuteTime": {
     "end_time": "2021-05-01T01:29:12.491316Z",
     "start_time": "2021-05-01T01:29:12.447587Z"
    }
   },
   "outputs": [
    {
     "data": {
      "text/plain": [
       "device(type='cuda')"
      ]
     },
     "execution_count": 14,
     "metadata": {},
     "output_type": "execute_result"
    }
   ],
   "source": [
    "device = torch.device(\"cuda\" if torch.cuda.is_available() else \"cpu\")\n",
    "device"
   ]
  },
  {
   "cell_type": "code",
   "execution_count": 15,
   "id": "80074f21",
   "metadata": {
    "ExecuteTime": {
     "end_time": "2021-05-01T01:29:14.492910Z",
     "start_time": "2021-05-01T01:29:12.492291Z"
    }
   },
   "outputs": [
    {
     "data": {
      "text/plain": [
       "StockPredictor(\n",
       "  (lstm): LSTM(1, 64, num_layers=2, dropout=0.25)\n",
       "  (linear): Linear(in_features=64, out_features=1, bias=True)\n",
       ")"
      ]
     },
     "execution_count": 15,
     "metadata": {},
     "output_type": "execute_result"
    }
   ],
   "source": [
    "model = StockPredictor(input_size=1, hidden_size=64, num_layers=2, seq_length=SEQ_LENGTH, dropout=0.25)\n",
    "model.to(device)"
   ]
  },
  {
   "cell_type": "code",
   "execution_count": 16,
   "id": "e48417cc",
   "metadata": {
    "ExecuteTime": {
     "end_time": "2021-05-01T01:29:15.996644Z",
     "start_time": "2021-05-01T01:29:14.493886Z"
    }
   },
   "outputs": [
    {
     "name": "stdout",
     "output_type": "stream",
     "text": [
      "Epoch 0 Train Loss: 342.94207763671875 Valid Loss: 560.39892578125\n",
      "Epoch 1 Train Loss: 315.7298583984375 Valid Loss: 539.568359375\n",
      "Epoch 2 Train Loss: 289.62628173828125 Valid Loss: 519.0243530273438\n",
      "Epoch 3 Train Loss: 264.38861083984375 Valid Loss: 497.4339904785156\n",
      "Epoch 4 Train Loss: 239.2693328857422 Valid Loss: 476.92999267578125\n",
      "Epoch 5 Train Loss: 214.5585174560547 Valid Loss: 455.1669921875\n",
      "Epoch 6 Train Loss: 189.5911865234375 Valid Loss: 432.6599426269531\n",
      "Epoch 7 Train Loss: 164.21170043945312 Valid Loss: 406.616455078125\n",
      "Epoch 8 Train Loss: 138.76486206054688 Valid Loss: 379.9129943847656\n",
      "Epoch 9 Train Loss: 112.80253601074219 Valid Loss: 350.98260498046875\n",
      "Epoch 10 Train Loss: 87.68815612792969 Valid Loss: 317.3212585449219\n",
      "Epoch 11 Train Loss: 65.24786376953125 Valid Loss: 280.55157470703125\n",
      "Epoch 12 Train Loss: 46.86219024658203 Valid Loss: 237.37155151367188\n",
      "Epoch 13 Train Loss: 38.28335189819336 Valid Loss: 193.4661865234375\n",
      "Epoch 14 Train Loss: 46.59754943847656 Valid Loss: 150.02650451660156\n",
      "Epoch 15 Train Loss: 63.70148468017578 Valid Loss: 124.49668884277344\n",
      "Epoch 16 Train Loss: 70.30477905273438 Valid Loss: 115.31311798095703\n",
      "Epoch 17 Train Loss: 63.82952880859375 Valid Loss: 125.69139099121094\n",
      "Epoch 18 Train Loss: 54.24039840698242 Valid Loss: 137.96578979492188\n",
      "Epoch 19 Train Loss: 45.09291076660156 Valid Loss: 155.43263244628906\n"
     ]
    }
   ],
   "source": [
    "EPOCHS = 20\n",
    "model, train_history, valid_history = train_model(model, device, X_train, y_train, X_valid, y_valid, EPOCHS)"
   ]
  },
  {
   "cell_type": "code",
   "execution_count": 17,
   "id": "b8e94844",
   "metadata": {
    "ExecuteTime": {
     "end_time": "2021-05-01T01:29:16.101053Z",
     "start_time": "2021-05-01T01:29:15.997620Z"
    }
   },
   "outputs": [
    {
     "data": {
      "image/png": "[encoded data removed]",
      "text/plain": [
       "<Figure size 1080x432 with 1 Axes>"
      ]
     },
     "metadata": {
      "needs_background": "light"
     },
     "output_type": "display_data"
    }
   ],
   "source": [
    "plt.figure(figsize=(15, 6))\n",
    "plt.plot(range(EPOCHS), train_history, label=\"train loss\")\n",
    "plt.plot(range(EPOCHS), valid_history, label=\"valid loss\")\n",
    "plt.grid()\n",
    "plt.legend()\n",
    "plt.show()"
   ]
  },
  {
   "cell_type": "code",
   "execution_count": 19,
   "id": "8e99e326",
   "metadata": {
    "ExecuteTime": {
     "end_time": "2021-05-01T01:29:16.224517Z",
     "start_time": "2021-05-01T01:29:16.106940Z"
    }
   },
   "outputs": [],
   "source": [
    "with torch.no_grad():\n",
    "    test_seq = X_test[:1]\n",
    "    preds = []\n",
    "    for _ in range(len(X_test)):\n",
    "        y_test_pred = model(test_seq.to(device))\n",
    "        pred = torch.flatten(y_test_pred).item()\n",
    "        preds.append(pred)\n",
    "        new_seq = test_seq.numpy().flatten()\n",
    "        new_seq = np.append(new_seq, [pred])\n",
    "        new_seq = new_seq[1:]\n",
    "        test_seq = torch.as_tensor(new_seq).view(1, SEQ_LENGTH, 1).float()"
   ]
  },
  {
   "cell_type": "code",
   "execution_count": 20,
   "id": "53660e5e",
   "metadata": {
    "ExecuteTime": {
     "end_time": "2021-05-01T01:29:16.229037Z",
     "start_time": "2021-05-01T01:29:16.225493Z"
    }
   },
   "outputs": [],
   "source": [
    "true_cases = scaler.inverse_transform(\n",
    "    np.expand_dims(y_test.flatten().numpy(), axis=0)\n",
    ").flatten()\n",
    "\n",
    "predict_cases = scaler.inverse_transform(\n",
    "    np.expand_dims(preds, axis=0)\n",
    ").flatten()"
   ]
  },
  {
   "cell_type": "code",
   "execution_count": 21,
   "id": "2161299f",
   "metadata": {
    "ExecuteTime": {
     "end_time": "2021-05-01T01:29:16.347865Z",
     "start_time": "2021-05-01T01:29:16.230006Z"
    }
   },
   "outputs": [
    {
     "data": {
      "image/png": "[encoded data removed]",
      "text/plain": [
       "<Figure size 1080x432 with 1 Axes>"
      ]
     },
     "metadata": {
      "needs_background": "light"
     },
     "output_type": "display_data"
    }
   ],
   "source": [
    "plt.figure(figsize=(15, 6))\n",
    "plt.plot(\n",
    "    stock.index[:len(train_data)], \n",
    "    scaler.inverse_transform(train_data).flatten(), \n",
    "    label=\"Historical Close Price (Train)\"\n",
    ")\n",
    "plt.plot(\n",
    "    stock.index[len(train_data):len(train_data)+len(valid_data)], \n",
    "    scaler.inverse_transform(valid_data).flatten(), \n",
    "    label=\"Historical Close Price (Valid)\"\n",
    ")\n",
    "plt.plot(\n",
    "    stock.index[len(train_data)+len(valid_data):len(train_data)+len(valid_data)+len(true_cases)], \n",
    "    true_cases, \n",
    "    label=\"Groud Truth Price\"\n",
    ")\n",
    "plt.plot(\n",
    "    stock.index[len(train_data)+len(valid_data):len(train_data)+len(valid_data)+len(predict_cases)], \n",
    "    predict_cases, \n",
    "    label=\"Predicted Price\"\n",
    ")\n",
    "plt.grid()\n",
    "plt.legend()\n",
    "plt.show()"
   ]
  },
  {
   "cell_type": "code",
   "execution_count": null,
   "id": "7e4b5ba0",
   "metadata": {},
   "outputs": [],
   "source": []
  }
 ],
 "metadata": {
  "kernelspec": {
   "display_name": "nlp",
   "language": "python",
   "name": "nlp"
  },
  "language_info": {
   "codemirror_mode": {
    "name": "ipython",
    "version": 3
   },
   "file_extension": ".py",
   "mimetype": "text/x-python",
   "name": "python",
   "nbconvert_exporter": "python",
   "pygments_lexer": "ipython3",
   "version": "3.7.3"
  },
  "toc": {
   "base_numbering": 1,
   "nav_menu": {},
   "number_sections": true,
   "sideBar": true,
   "skip_h1_title": false,
   "title_cell": "Table of Contents",
   "title_sidebar": "Contents",
   "toc_cell": false,
   "toc_position": {},
   "toc_section_display": true,
   "toc_window_display": false
  }
 },
 "nbformat": 4,
 "nbformat_minor": 5
}
