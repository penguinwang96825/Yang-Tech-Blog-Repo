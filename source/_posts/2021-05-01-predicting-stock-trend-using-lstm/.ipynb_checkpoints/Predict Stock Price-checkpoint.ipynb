{
 "cells": [
  {
   "cell_type": "code",
   "execution_count": 1,
   "id": "44ec17de",
   "metadata": {
    "ExecuteTime": {
     "end_time": "2021-05-01T01:06:20.855204Z",
     "start_time": "2021-05-01T01:06:19.279931Z"
    }
   },
   "outputs": [],
   "source": [
    "import torch\n",
    "import torch.nn as nn\n",
    "import torch.optim as optim\n",
    "import torch.nn.functional as F\n",
    "import numpy as np\n",
    "import pandas as pd\n",
    "import yfinance as yf\n",
    "import matplotlib.pyplot as plt\n",
    "import seaborn as sns\n",
    "from sklearn.preprocessing import MinMaxScaler"
   ]
  },
  {
   "cell_type": "code",
   "execution_count": 2,
   "id": "08b5627f",
   "metadata": {
    "ExecuteTime": {
     "end_time": "2021-05-01T01:06:21.306272Z",
     "start_time": "2021-05-01T01:06:20.856158Z"
    }
   },
   "outputs": [],
   "source": [
    "SP500 = yf.download(tickers=\"^GSPC\", progress=False)\n",
    "SP500 = SP500.loc[\"2015\":]"
   ]
  },
  {
   "cell_type": "code",
   "execution_count": 3,
   "id": "aaf24d54",
   "metadata": {
    "ExecuteTime": {
     "end_time": "2021-05-01T01:06:21.318558Z",
     "start_time": "2021-05-01T01:06:21.307223Z"
    }
   },
   "outputs": [
    {
     "data": {
      "text/html": [
       "<div>\n",
       "<style scoped>\n",
       "    .dataframe tbody tr th:only-of-type {\n",
       "        vertical-align: middle;\n",
       "    }\n",
       "\n",
       "    .dataframe tbody tr th {\n",
       "        vertical-align: top;\n",
       "    }\n",
       "\n",
       "    .dataframe thead th {\n",
       "        text-align: right;\n",
       "    }\n",
       "</style>\n",
       "<table border=\"1\" class=\"dataframe\">\n",
       "  <thead>\n",
       "    <tr style=\"text-align: right;\">\n",
       "      <th></th>\n",
       "      <th>Open</th>\n",
       "      <th>High</th>\n",
       "      <th>Low</th>\n",
       "      <th>Close</th>\n",
       "      <th>Adj Close</th>\n",
       "      <th>Volume</th>\n",
       "    </tr>\n",
       "    <tr>\n",
       "      <th>Date</th>\n",
       "      <th></th>\n",
       "      <th></th>\n",
       "      <th></th>\n",
       "      <th></th>\n",
       "      <th></th>\n",
       "      <th></th>\n",
       "    </tr>\n",
       "  </thead>\n",
       "  <tbody>\n",
       "    <tr>\n",
       "      <th>2015-01-02</th>\n",
       "      <td>27.847500</td>\n",
       "      <td>27.860001</td>\n",
       "      <td>26.837500</td>\n",
       "      <td>27.332500</td>\n",
       "      <td>24.861401</td>\n",
       "      <td>212818400</td>\n",
       "    </tr>\n",
       "    <tr>\n",
       "      <th>2015-01-05</th>\n",
       "      <td>27.072500</td>\n",
       "      <td>27.162500</td>\n",
       "      <td>26.352501</td>\n",
       "      <td>26.562500</td>\n",
       "      <td>24.161013</td>\n",
       "      <td>257142000</td>\n",
       "    </tr>\n",
       "    <tr>\n",
       "      <th>2015-01-06</th>\n",
       "      <td>26.635000</td>\n",
       "      <td>26.857500</td>\n",
       "      <td>26.157499</td>\n",
       "      <td>26.565001</td>\n",
       "      <td>24.163294</td>\n",
       "      <td>263188400</td>\n",
       "    </tr>\n",
       "    <tr>\n",
       "      <th>2015-01-07</th>\n",
       "      <td>26.799999</td>\n",
       "      <td>27.049999</td>\n",
       "      <td>26.674999</td>\n",
       "      <td>26.937500</td>\n",
       "      <td>24.502111</td>\n",
       "      <td>160423600</td>\n",
       "    </tr>\n",
       "    <tr>\n",
       "      <th>2015-01-08</th>\n",
       "      <td>27.307501</td>\n",
       "      <td>28.037500</td>\n",
       "      <td>27.174999</td>\n",
       "      <td>27.972500</td>\n",
       "      <td>25.443539</td>\n",
       "      <td>237458000</td>\n",
       "    </tr>\n",
       "  </tbody>\n",
       "</table>\n",
       "</div>"
      ],
      "text/plain": [
       "                 Open       High        Low      Close  Adj Close     Volume\n",
       "Date                                                                        \n",
       "2015-01-02  27.847500  27.860001  26.837500  27.332500  24.861401  212818400\n",
       "2015-01-05  27.072500  27.162500  26.352501  26.562500  24.161013  257142000\n",
       "2015-01-06  26.635000  26.857500  26.157499  26.565001  24.163294  263188400\n",
       "2015-01-07  26.799999  27.049999  26.674999  26.937500  24.502111  160423600\n",
       "2015-01-08  27.307501  28.037500  27.174999  27.972500  25.443539  237458000"
      ]
     },
     "execution_count": 3,
     "metadata": {},
     "output_type": "execute_result"
    }
   ],
   "source": [
    "SP500.head()"
   ]
  },
  {
   "cell_type": "code",
   "execution_count": 4,
   "id": "eca57f32",
   "metadata": {
    "ExecuteTime": {
     "end_time": "2021-05-01T01:06:21.324289Z",
     "start_time": "2021-05-01T01:06:21.320510Z"
    }
   },
   "outputs": [],
   "source": [
    "SP500_close = SP500[\"Close\"]\n",
    "\n",
    "t_v_split = int(0.8*len(SP500_close))\n",
    "v_t_split = int(0.9*len(SP500_close))\n",
    "train_data, valid_data, test_data = SP500_close[:t_v_split], SP500_close[t_v_split:v_t_split], SP500_close[v_t_split:]"
   ]
  },
  {
   "cell_type": "code",
   "execution_count": 5,
   "id": "4150abee",
   "metadata": {
    "ExecuteTime": {
     "end_time": "2021-05-01T01:06:21.331114Z",
     "start_time": "2021-05-01T01:06:21.325258Z"
    }
   },
   "outputs": [],
   "source": [
    "scaler = MinMaxScaler()\n",
    "train_data = scaler.fit_transform(np.expand_dims(train_data, axis=1))\n",
    "valid_data = scaler.transform(np.expand_dims(valid_data, axis=1))\n",
    "test_data = scaler.transform(np.expand_dims(test_data, axis=1))"
   ]
  },
  {
   "cell_type": "code",
   "execution_count": 6,
   "id": "e6db708c",
   "metadata": {
    "ExecuteTime": {
     "end_time": "2021-05-01T01:06:21.337061Z",
     "start_time": "2021-05-01T01:06:21.332090Z"
    }
   },
   "outputs": [
    {
     "data": {
      "text/plain": [
       "((1274, 1), (159, 1), (160, 1))"
      ]
     },
     "execution_count": 6,
     "metadata": {},
     "output_type": "execute_result"
    }
   ],
   "source": [
    "train_data.shape, valid_data.shape, test_data.shape"
   ]
  },
  {
   "cell_type": "code",
   "execution_count": 7,
   "id": "74abec3f",
   "metadata": {
    "ExecuteTime": {
     "end_time": "2021-05-01T01:06:21.342543Z",
     "start_time": "2021-05-01T01:06:21.338039Z"
    }
   },
   "outputs": [],
   "source": [
    "def sliding_windows(data, seq_length):\n",
    "    xs, ys = [], []\n",
    "    \n",
    "    for i in range(len(data)-seq_length-1):\n",
    "        x = data[i:(i+seq_length)]\n",
    "        y = data[i+seq_length]\n",
    "        xs.append(x)\n",
    "        ys.append(y)\n",
    "        \n",
    "    return np.array(xs), np.array(ys)"
   ]
  },
  {
   "cell_type": "code",
   "execution_count": 8,
   "id": "25efeebe",
   "metadata": {
    "ExecuteTime": {
     "end_time": "2021-05-01T01:06:21.351323Z",
     "start_time": "2021-05-01T01:06:21.344490Z"
    }
   },
   "outputs": [],
   "source": [
    "SEQ_LENGTH = 16\n",
    "\n",
    "X_train, y_train = sliding_windows(train_data, SEQ_LENGTH)\n",
    "X_valid, y_valid = sliding_windows(valid_data, SEQ_LENGTH)\n",
    "X_test, y_test = sliding_windows(test_data, SEQ_LENGTH)"
   ]
  },
  {
   "cell_type": "code",
   "execution_count": 9,
   "id": "447d2fce",
   "metadata": {
    "ExecuteTime": {
     "end_time": "2021-05-01T01:06:21.357180Z",
     "start_time": "2021-05-01T01:06:21.352299Z"
    }
   },
   "outputs": [
    {
     "data": {
      "text/plain": [
       "((1257, 16, 1), (1257, 1))"
      ]
     },
     "execution_count": 9,
     "metadata": {},
     "output_type": "execute_result"
    }
   ],
   "source": [
    "X_train.shape, y_train.shape"
   ]
  },
  {
   "cell_type": "code",
   "execution_count": 10,
   "id": "8c4eff51",
   "metadata": {
    "ExecuteTime": {
     "end_time": "2021-05-01T01:06:21.361108Z",
     "start_time": "2021-05-01T01:06:21.358155Z"
    }
   },
   "outputs": [],
   "source": [
    "X_train = torch.from_numpy(X_train).float()\n",
    "X_valid = torch.from_numpy(X_valid).float()\n",
    "X_test = torch.from_numpy(X_test).float()"
   ]
  },
  {
   "cell_type": "code",
   "execution_count": 11,
   "id": "0703e63e",
   "metadata": {
    "ExecuteTime": {
     "end_time": "2021-05-01T01:06:21.366939Z",
     "start_time": "2021-05-01T01:06:21.362058Z"
    }
   },
   "outputs": [],
   "source": [
    "y_train = torch.from_numpy(y_train).float()\n",
    "y_valid = torch.from_numpy(y_valid).float()\n",
    "y_test = torch.from_numpy(y_test).float()"
   ]
  },
  {
   "cell_type": "code",
   "execution_count": 12,
   "id": "9f6ae544",
   "metadata": {
    "ExecuteTime": {
     "end_time": "2021-05-01T01:06:21.373663Z",
     "start_time": "2021-05-01T01:06:21.367915Z"
    }
   },
   "outputs": [],
   "source": [
    "class StockPredictor(nn.Module):\n",
    "    \n",
    "    def __init__(self, input_size, hidden_size, num_layers, seq_length, dropout):\n",
    "        super(StockPredictor, self).__init__()\n",
    "        self.input_size = input_size\n",
    "        self.hidden_size = hidden_size\n",
    "        self.num_layers = num_layers\n",
    "        self.seq_length = seq_length\n",
    "        self.dropout = dropout\n",
    "        \n",
    "        self.lstm = nn.LSTM(input_size=input_size, \n",
    "                            hidden_size=hidden_size, \n",
    "                            num_layers=num_layers, \n",
    "                            dropout=dropout)\n",
    "        self.linear = nn.Linear(in_features=hidden_size, out_features=1)\n",
    "        \n",
    "    def reset_hidden_state(self, device):\n",
    "        self.hidden = (\n",
    "            torch.zeros(self.num_layers, self.seq_length, self.hidden_size).to(device), \n",
    "            torch.zeros(self.num_layers, self.seq_length, self.hidden_size).to(device)\n",
    "        )\n",
    "        \n",
    "    def forward(self, input_):\n",
    "        lstm_out, self.hidden = self.lstm(input_.view(len(input_), self.seq_length, -1), self.hidden)\n",
    "        y_pred = self.linear(lstm_out.view(self.seq_length, len(input_), self.hidden_size)[-1])\n",
    "        return y_pred"
   ]
  },
  {
   "cell_type": "code",
   "execution_count": 13,
   "id": "eec424d3",
   "metadata": {
    "ExecuteTime": {
     "end_time": "2021-05-01T01:06:21.380492Z",
     "start_time": "2021-05-01T01:06:21.374635Z"
    }
   },
   "outputs": [],
   "source": [
    "def train_model(model, device, train_data, train_labels, valid_data=None, valid_labels=None, epochs=10):\n",
    "    loss_fn = nn.MSELoss(reduction=\"sum\").to(device)\n",
    "    optimiser = optim.Adam(model.parameters(), lr=1e-3, weight_decay=1e-4)\n",
    "    train_history = np.zeros(EPOCHS)\n",
    "    valid_history = np.zeros(EPOCHS)\n",
    "    \n",
    "    for epoch in range(epochs):\n",
    "        model.reset_hidden_state(device)\n",
    "        y_pred = model(train_data.to(device))\n",
    "        loss = loss_fn(y_pred.float(), train_labels.to(device))\n",
    "        if valid_data is not None:\n",
    "            with torch.no_grad():\n",
    "                y_valid_pred = model(valid_data.to(device))\n",
    "                valid_loss = loss_fn(y_valid_pred.float(), valid_labels.to(device))\n",
    "            valid_history[epoch] = valid_loss.item()\n",
    "            print(f\"Epoch {epoch} Train Loss: {loss.item()} Valid Loss: {valid_loss.item()}\")\n",
    "        else:\n",
    "            print(f\"Epoch {epoch} Train Loss: {loss.item()}\")\n",
    "        train_history[epoch] = loss.item()\n",
    "        optimiser.zero_grad()\n",
    "        loss.backward()\n",
    "        optimiser.step()\n",
    "    return model.eval(), train_history, valid_history"
   ]
  },
  {
   "cell_type": "code",
   "execution_count": 14,
   "id": "91a965f8",
   "metadata": {
    "ExecuteTime": {
     "end_time": "2021-05-01T01:06:21.414726Z",
     "start_time": "2021-05-01T01:06:21.381468Z"
    }
   },
   "outputs": [
    {
     "data": {
      "text/plain": [
       "device(type='cuda')"
      ]
     },
     "execution_count": 14,
     "metadata": {},
     "output_type": "execute_result"
    }
   ],
   "source": [
    "device = torch.device(\"cuda\" if torch.cuda.is_available() else \"cpu\")\n",
    "device"
   ]
  },
  {
   "cell_type": "code",
   "execution_count": 15,
   "id": "4e37b0c0",
   "metadata": {
    "ExecuteTime": {
     "end_time": "2021-05-01T01:06:23.474485Z",
     "start_time": "2021-05-01T01:06:21.415703Z"
    }
   },
   "outputs": [
    {
     "data": {
      "text/plain": [
       "StockPredictor(\n",
       "  (lstm): LSTM(1, 64, num_layers=2, dropout=0.25)\n",
       "  (linear): Linear(in_features=64, out_features=1, bias=True)\n",
       ")"
      ]
     },
     "execution_count": 15,
     "metadata": {},
     "output_type": "execute_result"
    }
   ],
   "source": [
    "model = StockPredictor(input_size=1, hidden_size=64, num_layers=2, seq_length=SEQ_LENGTH, dropout=0.25)\n",
    "model.to(device)"
   ]
  },
  {
   "cell_type": "code",
   "execution_count": 16,
   "id": "79cb9ddd",
   "metadata": {
    "ExecuteTime": {
     "end_time": "2021-05-01T01:06:25.287853Z",
     "start_time": "2021-05-01T01:06:23.475461Z"
    }
   },
   "outputs": [
    {
     "name": "stdout",
     "output_type": "stream",
     "text": [
      "Epoch 0 Train Loss: 151.64187622070312 Valid Loss: 184.2392120361328\n",
      "Epoch 1 Train Loss: 132.83181762695312 Valid Loss: 174.4316864013672\n",
      "Epoch 2 Train Loss: 115.2994384765625 Valid Loss: 164.7381134033203\n",
      "Epoch 3 Train Loss: 99.36738586425781 Valid Loss: 154.50367736816406\n",
      "Epoch 4 Train Loss: 84.39598846435547 Valid Loss: 143.4940643310547\n",
      "Epoch 5 Train Loss: 71.09239959716797 Valid Loss: 132.13002014160156\n",
      "Epoch 6 Train Loss: 60.16084289550781 Valid Loss: 120.604248046875\n",
      "Epoch 7 Train Loss: 52.6279296875 Valid Loss: 107.42973327636719\n",
      "Epoch 8 Train Loss: 49.65882873535156 Valid Loss: 95.16966247558594\n",
      "Epoch 9 Train Loss: 52.26788330078125 Valid Loss: 81.6287841796875\n",
      "Epoch 10 Train Loss: 58.273746490478516 Valid Loss: 73.01516723632812\n",
      "Epoch 11 Train Loss: 61.878456115722656 Valid Loss: 69.38462829589844\n",
      "Epoch 12 Train Loss: 60.66178512573242 Valid Loss: 69.73469543457031\n",
      "Epoch 13 Train Loss: 58.11150360107422 Valid Loss: 73.20301818847656\n",
      "Epoch 14 Train Loss: 53.882869720458984 Valid Loss: 78.40902709960938\n",
      "Epoch 15 Train Loss: 50.90827178955078 Valid Loss: 82.70038604736328\n",
      "Epoch 16 Train Loss: 50.21642303466797 Valid Loss: 88.11283874511719\n",
      "Epoch 17 Train Loss: 49.17781066894531 Valid Loss: 92.84408569335938\n",
      "Epoch 18 Train Loss: 49.458770751953125 Valid Loss: 96.68714141845703\n",
      "Epoch 19 Train Loss: 49.99898147583008 Valid Loss: 99.87570190429688\n"
     ]
    }
   ],
   "source": [
    "EPOCHS = 20\n",
    "model, train_history, valid_history = train_model(model, device, X_train, y_train, X_valid, y_valid, EPOCHS)"
   ]
  },
  {
   "cell_type": "code",
   "execution_count": 17,
   "id": "98c2f69d",
   "metadata": {
    "ExecuteTime": {
     "end_time": "2021-05-01T01:06:25.402844Z",
     "start_time": "2021-05-01T01:06:25.288831Z"
    }
   },
   "outputs": [
    {
     "data": {
      "image/png": "[encoded data removed]",
      "text/plain": [
       "<Figure size 1080x432 with 1 Axes>"
      ]
     },
     "metadata": {
      "needs_background": "light"
     },
     "output_type": "display_data"
    }
   ],
   "source": [
    "plt.figure(figsize=(15, 6))\n",
    "plt.plot(range(EPOCHS), train_history, label=\"train loss\")\n",
    "plt.plot(range(EPOCHS), valid_history, label=\"valid loss\")\n",
    "plt.grid()\n",
    "plt.legend()\n",
    "plt.show()"
   ]
  },
  {
   "cell_type": "code",
   "execution_count": 18,
   "id": "1af9992e",
   "metadata": {
    "ExecuteTime": {
     "end_time": "2021-05-01T01:06:25.472699Z",
     "start_time": "2021-05-01T01:06:25.403812Z"
    }
   },
   "outputs": [],
   "source": [
    "with torch.no_grad():\n",
    "    test_seq = X_test[:1]\n",
    "    preds = []\n",
    "    for _ in range(len(X_test)):\n",
    "        y_test_pred = model(test_seq.to(device))\n",
    "        pred = torch.flatten(y_test_pred).item()\n",
    "        preds.append(pred)\n",
    "        new_seq = test_seq.numpy().flatten()\n",
    "        new_seq = np.append(new_seq, [pred])\n",
    "        new_seq = new_seq[1:]\n",
    "        test_seq = torch.as_tensor(new_seq).view(1, SEQ_LENGTH, 1).float()"
   ]
  },
  {
   "cell_type": "code",
   "execution_count": 19,
   "id": "328c389b",
   "metadata": {
    "ExecuteTime": {
     "end_time": "2021-05-01T01:06:25.476602Z",
     "start_time": "2021-05-01T01:06:25.473675Z"
    }
   },
   "outputs": [],
   "source": [
    "true_cases = scaler.inverse_transform(\n",
    "    np.expand_dims(y_test.flatten().numpy(), axis=0)\n",
    ").flatten()\n",
    "\n",
    "predict_cases = scaler.inverse_transform(\n",
    "    np.expand_dims(preds, axis=0)\n",
    ").flatten()"
   ]
  },
  {
   "cell_type": "code",
   "execution_count": 20,
   "id": "a90eca1f",
   "metadata": {
    "ExecuteTime": {
     "end_time": "2021-05-01T01:06:25.588986Z",
     "start_time": "2021-05-01T01:06:25.477579Z"
    }
   },
   "outputs": [
    {
     "data": {
      "image/png": "[encoded data removed]",
      "text/plain": [
       "<Figure size 1080x432 with 1 Axes>"
      ]
     },
     "metadata": {
      "needs_background": "light"
     },
     "output_type": "display_data"
    }
   ],
   "source": [
    "plt.figure(figsize=(15, 6))\n",
    "plt.plot(\n",
    "    SP500.index[:len(train_data)], \n",
    "    scaler.inverse_transform(train_data).flatten(), \n",
    "    label=\"Historical Close Price\"\n",
    ")\n",
    "plt.plot(\n",
    "    SP500.index[len(train_data):len(train_data)+len(true_cases)], \n",
    "    true_cases, \n",
    "    label=\"Groud Truth Price\"\n",
    ")\n",
    "plt.plot(\n",
    "    SP500.index[len(train_data):len(train_data)+len(predict_cases)], \n",
    "    predict_cases, \n",
    "    label=\"Predicted Price\"\n",
    ")\n",
    "plt.grid()\n",
    "plt.legend()\n",
    "plt.show()"
   ]
  },
  {
   "cell_type": "code",
   "execution_count": null,
   "id": "b659ed57",
   "metadata": {},
   "outputs": [],
   "source": []
  }
 ],
 "metadata": {
  "kernelspec": {
   "display_name": "nlp",
   "language": "python",
   "name": "nlp"
  },
  "language_info": {
   "codemirror_mode": {
    "name": "ipython",
    "version": 3
   },
   "file_extension": ".py",
   "mimetype": "text/x-python",
   "name": "python",
   "nbconvert_exporter": "python",
   "pygments_lexer": "ipython3",
   "version": "3.7.3"
  },
  "toc": {
   "base_numbering": 1,
   "nav_menu": {},
   "number_sections": true,
   "sideBar": true,
   "skip_h1_title": false,
   "title_cell": "Table of Contents",
   "title_sidebar": "Contents",
   "toc_cell": false,
   "toc_position": {},
   "toc_section_display": true,
   "toc_window_display": false
  }
 },
 "nbformat": 4,
 "nbformat_minor": 5
}
